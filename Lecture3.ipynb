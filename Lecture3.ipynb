{
 "cells": [
  {
   "cell_type": "markdown",
   "metadata": {},
   "source": [
    "Exercise 1.1"
   ]
  },
  {
   "cell_type": "code",
   "execution_count": null,
   "metadata": {},
   "outputs": [],
   "source": [
    "import math \n",
    "def split_list(listin = list) -> list:\n",
    "    listelem = 0\n",
    "    for elem in listin:\n",
    "        listelem += 1\n",
    "    middleindex = listelem/2\n",
    "    quarterindex = listelem/4\n",
    "    threequarterindex = listelem*3/4  \n",
    "    if middleindex/2 != 0 :\n",
    "        middleindex = math.ceil(middleindex)\n",
    "        quarterindex = math.ceil(quarterindex)\n",
    "        threequarterindex = math.ceil(threequarterindex)\n",
    "    return print(f\"The element at the half is: {listin[middleindex]} the element at a quarter is {listin[quarterindex]} the element at three quarters is {listin[threequarterindex]}.\")\n",
    "\n",
    "def test_list(listin1 = list, function = split_list):\n",
    "    return split_list(listin1)\n",
    "\n",
    "element_list = [\"Hydrogen\", \"Helium\", \"Lithium\", \"Beryllium\", \"Boron\", \"nitrogen\"]\n",
    "element_list1 = [\"Hydrogen\", \"Helium\", \"Lithium\", \"Beryllium\", \"Boron\"]\n",
    "\n",
    "print(test_list(element_list))\n",
    "print(test_list(element_list1))"
   ]
  },
  {
   "cell_type": "code",
   "execution_count": null,
   "metadata": {},
   "outputs": [],
   "source": []
  }
 ],
 "metadata": {
  "language_info": {
   "name": "python"
  }
 },
 "nbformat": 4,
 "nbformat_minor": 2
}
